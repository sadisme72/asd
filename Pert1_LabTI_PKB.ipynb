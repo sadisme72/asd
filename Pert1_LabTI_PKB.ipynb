{
  "nbformat": 4,
  "nbformat_minor": 0,
  "metadata": {
    "colab": {
      "name": "Pert1 LabTI PKB.ipynb",
      "version": "0.3.2",
      "provenance": [],
      "collapsed_sections": [],
      "include_colab_link": true
    },
    "kernelspec": {
      "name": "python3",
      "display_name": "Python 3"
    },
    "accelerator": "GPU"
  },
  "cells": [
    {
      "cell_type": "markdown",
      "metadata": {
        "id": "view-in-github",
        "colab_type": "text"
      },
      "source": [
        "[View in Colaboratory](https://colab.research.google.com/github/sadisme72/asd/blob/master/Pert1_LabTI_PKB.ipynb)"
      ]
    },
    {
      "metadata": {
        "id": "kpe-nky4mOhw",
        "colab_type": "code",
        "colab": {}
      },
      "cell_type": "code",
      "source": [
        "import numpy as np #multidimensionarray\n",
        "import matplotlib.pyplot as plt #grafik - lihat gambar \n",
        "from keras.layers import Dense #lapisan neural net\n",
        "from keras.models import Sequential #model neural net\n",
        "from keras.datasets import mnist #dataset\n",
        "from keras.utils import to_categorical #ubah label jadi vektor\n"
      ],
      "execution_count": 0,
      "outputs": []
    },
    {
      "metadata": {
        "id": "lW4wBXPioOyV",
        "colab_type": "code",
        "colab": {}
      },
      "cell_type": "code",
      "source": [
        "(x_train, y_train), (x_test, y_test) = mnist.load_data();"
      ],
      "execution_count": 0,
      "outputs": []
    },
    {
      "metadata": {
        "id": "0XV2MQ_-pcRz",
        "colab_type": "code",
        "colab": {}
      },
      "cell_type": "code",
      "source": [
        "input_dim = 784\n",
        "model = Sequential()\n",
        "model.add(Dense(400,\n",
        "              input_dim=input_dim,\n",
        "              activation='relu')) #Layer 1 \n",
        "model.add(Dense(10,\n",
        "               activation='softmax')) #Layer 2 (gak boleh lebih besar dari Layer 1) \n",
        "model.compile(loss='categorical_crossentropy', #Loss(Tingkat kehilangan)\n",
        "            optimizer='adam',\n",
        "            metrics=['accuracy']) #Fungsinya ningkatin akurasi \n",
        "#Loss makin mendekati 0, optimize mendekati 1 \n",
        "\n",
        "x_train = np.reshape(x_train, (x_train.shape[0], 784))\n",
        "x_test = np.reshape(x_test, (x_test.shape[0], 784))\n",
        "\n",
        "y_train = to_categorical(y_train)\n",
        "y_test = to_categorical(y_test)"
      ],
      "execution_count": 0,
      "outputs": []
    },
    {
      "metadata": {
        "id": "JXYBfVg4v5uF",
        "colab_type": "code",
        "colab": {}
      },
      "cell_type": "code",
      "source": [
        ""
      ],
      "execution_count": 0,
      "outputs": []
    },
    {
      "metadata": {
        "id": "EqJm5yPusVXI",
        "colab_type": "code",
        "colab": {
          "base_uri": "https://localhost:8080/",
          "height": 770
        },
        "outputId": "6e9c394c-d260-4078-c168-f8b078e0cf4e"
      },
      "cell_type": "code",
      "source": [
        "hist = model.fit(x_train, y_train, #memanggil x dan y train \n",
        "               epochs = 20, #pengulangan sebanyak 20 \n",
        "               batch_size = 200, #banyaknya data yang dibaca \n",
        "               validation_data=(x_test, y_test))"
      ],
      "execution_count": 39,
      "outputs": [
        {
          "output_type": "stream",
          "text": [
            "Train on 60000 samples, validate on 10000 samples\n",
            "Epoch 1/20\n",
            "60000/60000 [==============================] - 2s 33us/step - loss: 10.2640 - acc: 0.3621 - val_loss: 9.9553 - val_acc: 0.3820\n",
            "Epoch 2/20\n",
            "60000/60000 [==============================] - 2s 30us/step - loss: 9.7240 - acc: 0.3960 - val_loss: 8.7355 - val_acc: 0.4574\n",
            "Epoch 3/20\n",
            "60000/60000 [==============================] - 2s 30us/step - loss: 8.8390 - acc: 0.4509 - val_loss: 8.5478 - val_acc: 0.4689\n",
            "Epoch 4/20\n",
            "60000/60000 [==============================] - 2s 30us/step - loss: 8.7172 - acc: 0.4585 - val_loss: 8.6104 - val_acc: 0.4655\n",
            "Epoch 5/20\n",
            "60000/60000 [==============================] - 2s 30us/step - loss: 8.5303 - acc: 0.4702 - val_loss: 7.6003 - val_acc: 0.5276\n",
            "Epoch 6/20\n",
            "60000/60000 [==============================] - 2s 30us/step - loss: 7.3068 - acc: 0.5460 - val_loss: 7.0373 - val_acc: 0.5630\n",
            "Epoch 7/20\n",
            "60000/60000 [==============================] - 2s 30us/step - loss: 7.0977 - acc: 0.5592 - val_loss: 7.0752 - val_acc: 0.5605\n",
            "Epoch 8/20\n",
            "60000/60000 [==============================] - 2s 30us/step - loss: 7.0936 - acc: 0.5595 - val_loss: 7.4802 - val_acc: 0.5353\n",
            "Epoch 9/20\n",
            "60000/60000 [==============================] - 2s 30us/step - loss: 7.0850 - acc: 0.5599 - val_loss: 7.0518 - val_acc: 0.5622\n",
            "Epoch 10/20\n",
            "60000/60000 [==============================] - 2s 29us/step - loss: 7.0394 - acc: 0.5630 - val_loss: 6.9228 - val_acc: 0.5704\n",
            "Epoch 11/20\n",
            "60000/60000 [==============================] - 2s 30us/step - loss: 7.0123 - acc: 0.5645 - val_loss: 7.0314 - val_acc: 0.5632\n",
            "Epoch 12/20\n",
            "60000/60000 [==============================] - 2s 29us/step - loss: 7.0100 - acc: 0.5648 - val_loss: 6.9818 - val_acc: 0.5665\n",
            "Epoch 13/20\n",
            "60000/60000 [==============================] - 2s 30us/step - loss: 6.9910 - acc: 0.5658 - val_loss: 6.8613 - val_acc: 0.5742\n",
            "Epoch 14/20\n",
            "60000/60000 [==============================] - 2s 30us/step - loss: 6.9698 - acc: 0.5673 - val_loss: 6.8576 - val_acc: 0.5744\n",
            "Epoch 15/20\n",
            "60000/60000 [==============================] - 2s 30us/step - loss: 7.0576 - acc: 0.5618 - val_loss: 6.9044 - val_acc: 0.5711\n",
            "Epoch 16/20\n",
            "60000/60000 [==============================] - 2s 29us/step - loss: 7.0295 - acc: 0.5636 - val_loss: 6.9627 - val_acc: 0.5677\n",
            "Epoch 17/20\n",
            "60000/60000 [==============================] - 2s 29us/step - loss: 6.9904 - acc: 0.5660 - val_loss: 6.8711 - val_acc: 0.5734\n",
            "Epoch 18/20\n",
            "60000/60000 [==============================] - 2s 30us/step - loss: 6.9434 - acc: 0.5690 - val_loss: 6.9248 - val_acc: 0.5699\n",
            "Epoch 19/20\n",
            "60000/60000 [==============================] - 2s 30us/step - loss: 6.9303 - acc: 0.5697 - val_loss: 6.8346 - val_acc: 0.5757\n",
            "Epoch 20/20\n",
            "60000/60000 [==============================] - 2s 30us/step - loss: 6.9661 - acc: 0.5676 - val_loss: 7.0505 - val_acc: 0.5622\n"
          ],
          "name": "stdout"
        }
      ]
    },
    {
      "metadata": {
        "id": "2gF0QuPrv7JS",
        "colab_type": "code",
        "colab": {
          "base_uri": "https://localhost:8080/",
          "height": 365
        },
        "outputId": "bf90386b-971b-4065-dce8-729a204fc110"
      },
      "cell_type": "code",
      "source": [
        "img = x_test[8888]\n",
        "predicted = model.predict(np.reshape(img,(1,784)))\n",
        "predicted = np.argmax(predicted)\n",
        "\n",
        "predicted\n",
        "\n",
        "np.argmax(y_test)\n",
        "plt.imshow(np.reshape(x_test[8700], [28,28]))\n",
        "plt.axis('off')\n",
        "plt.show\n",
        "\n"
      ],
      "execution_count": 43,
      "outputs": [
        {
          "output_type": "execute_result",
          "data": {
            "text/plain": [
              "<function matplotlib.pyplot.show>"
            ]
          },
          "metadata": {
            "tags": []
          },
          "execution_count": 43
        },
        {
          "output_type": "display_data",
          "data": {
            "image/png": "[encoded data removed]",
            "text/plain": [
              "<matplotlib.figure.Figure at 0x7f6a21ec5c50>"
            ]
          },
          "metadata": {
            "tags": []
          }
        }
      ]
    },
    {
      "metadata": {
        "id": "WDzZgZP6z9mW",
        "colab_type": "code",
        "colab": {}
      },
      "cell_type": "code",
      "source": [
        ""
      ],
      "execution_count": 0,
      "outputs": []
    },
    {
      "metadata": {
        "id": "umHIPW6Xz7FQ",
        "colab_type": "code",
        "colab": {}
      },
      "cell_type": "code",
      "source": [
        ""
      ],
      "execution_count": 0,
      "outputs": []
    },
    {
      "metadata": {
        "id": "d3jLtTupz5PX",
        "colab_type": "code",
        "colab": {}
      },
      "cell_type": "code",
      "source": [
        ""
      ],
      "execution_count": 0,
      "outputs": []
    },
    {
      "metadata": {
        "id": "jOKX_GV1vw_y",
        "colab_type": "code",
        "colab": {}
      },
      "cell_type": "code",
      "source": [
        ""
      ],
      "execution_count": 0,
      "outputs": []
    },
    {
      "metadata": {
        "id": "BNZklTxBvrPT",
        "colab_type": "code",
        "colab": {}
      },
      "cell_type": "code",
      "source": [
        ""
      ],
      "execution_count": 0,
      "outputs": []
    },
    {
      "metadata": {
        "id": "WrfMpC5GvO42",
        "colab_type": "code",
        "colab": {}
      },
      "cell_type": "code",
      "source": [
        ""
      ],
      "execution_count": 0,
      "outputs": []
    },
    {
      "metadata": {
        "id": "LmAiXpsRvMY3",
        "colab_type": "code",
        "colab": {}
      },
      "cell_type": "code",
      "source": [
        ""
      ],
      "execution_count": 0,
      "outputs": []
    },
    {
      "metadata": {
        "id": "37oXxVmmsMNW",
        "colab_type": "code",
        "colab": {}
      },
      "cell_type": "code",
      "source": [
        ""
      ],
      "execution_count": 0,
      "outputs": []
    },
    {
      "metadata": {
        "id": "zjRke8ujr_VZ",
        "colab_type": "code",
        "colab": {}
      },
      "cell_type": "code",
      "source": [
        ""
      ],
      "execution_count": 0,
      "outputs": []
    },
    {
      "metadata": {
        "id": "omWnMn6_oLa3",
        "colab_type": "code",
        "colab": {}
      },
      "cell_type": "code",
      "source": [
        ""
      ],
      "execution_count": 0,
      "outputs": []
    },
    {
      "metadata": {
        "id": "FHErR97EoB9s",
        "colab_type": "code",
        "colab": {}
      },
      "cell_type": "code",
      "source": [
        ""
      ],
      "execution_count": 0,
      "outputs": []
    }
  ]
}