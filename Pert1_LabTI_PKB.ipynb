{
  "nbformat": 4,
  "nbformat_minor": 0,
  "metadata": {
    "colab": {
      "name": "Pert1 LabTI PKB.ipynb",
      "version": "0.3.2",
      "provenance": [],
      "collapsed_sections": [],
      "include_colab_link": true
    },
    "kernelspec": {
      "name": "python3",
      "display_name": "Python 3"
    },
    "accelerator": "GPU"
  },
  "cells": [
    {
      "cell_type": "markdown",
      "metadata": {
        "id": "view-in-github",
        "colab_type": "text"
      },
      "source": [
        "[View in Colaboratory](https://colab.research.google.com/github/sadisme72/asd/blob/master/Pert1_LabTI_PKB.ipynb)"
      ]
    },
    {
      "metadata": {
        "id": "kpe-nky4mOhw",
        "colab_type": "code",
        "colab": {}
      },
      "cell_type": "code",
      "source": [
        "import numpy as np #multidimensionarray\n",
        "import matplotlib.pyplot as plt #grafik - lihat gambar \n",
        "from keras.layers import Dense #lapisan neural net\n",
        "from keras.models import Sequential #model neural net\n",
        "from keras.datasets import mnist #dataset\n",
        "from keras.utils import to_categorical #ubah label jadi vektor"
      ],
      "execution_count": 0,
      "outputs": []
    },
    {
      "metadata": {
        "id": "lW4wBXPioOyV",
        "colab_type": "code",
        "colab": {
          "base_uri": "https://localhost:8080/",
          "height": 54
        },
        "outputId": "8f2e4e0d-36a4-4e42-bcf0-b731b09c4f14"
      },
      "cell_type": "code",
      "source": [
        "(x_train, y_train), (x_test, y_test) = mnist.load_data();"
      ],
      "execution_count": 4,
      "outputs": [
        {
          "output_type": "stream",
          "text": [
            "Downloading data from https://s3.amazonaws.com/img-datasets/mnist.npz\n",
            "11493376/11490434 [==============================] - 2s 0us/step\n"
          ],
          "name": "stdout"
        }
      ]
    },
    {
      "metadata": {
        "id": "0XV2MQ_-pcRz",
        "colab_type": "code",
        "colab": {}
      },
      "cell_type": "code",
      "source": [
        "input_dim = 754\n",
        "model = Sequential()\n",
        "model.add(Dense(400,\n",
        "              input_dim=input_dim,\n",
        "              activation='relu')) #Layer 1 \n",
        "model.add(Dense(10,\n",
        "               activation='softmax')) #Layer 2 (gak boleh lebih besar dari Layer 1) \n",
        "model.compile(loss='categorical_crossentropy', #Loss(Tingkat kehilangan)\n",
        "            optimizer='adam',\n",
        "            matrics=['accuracy']) #Fungsinya ningkatin akurasi \n",
        "#Loss makin mendekati 0, optimize mendekati 1 \n",
        "\n",
        "x_train = np.reshape(x_train, (x_train.shape[0], 784))\n",
        "x_test = np.reshape(x_test, (x_test.shape[0], 784))\n",
        "\n",
        "y_train = to_categorical(y_train)\n",
        "y_test = to_categorical(y_test)"
      ],
      "execution_count": 0,
      "outputs": []
    },
    {
      "metadata": {
        "id": "EqJm5yPusVXI",
        "colab_type": "code",
        "colab": {}
      },
      "cell_type": "code",
      "source": [
        ""
      ],
      "execution_count": 0,
      "outputs": []
    },
    {
      "metadata": {
        "id": "37oXxVmmsMNW",
        "colab_type": "code",
        "colab": {}
      },
      "cell_type": "code",
      "source": [
        ""
      ],
      "execution_count": 0,
      "outputs": []
    },
    {
      "metadata": {
        "id": "zjRke8ujr_VZ",
        "colab_type": "code",
        "colab": {}
      },
      "cell_type": "code",
      "source": [
        ""
      ],
      "execution_count": 0,
      "outputs": []
    },
    {
      "metadata": {
        "id": "omWnMn6_oLa3",
        "colab_type": "code",
        "colab": {}
      },
      "cell_type": "code",
      "source": [
        ""
      ],
      "execution_count": 0,
      "outputs": []
    },
    {
      "metadata": {
        "id": "FHErR97EoB9s",
        "colab_type": "code",
        "colab": {}
      },
      "cell_type": "code",
      "source": [
        ""
      ],
      "execution_count": 0,
      "outputs": []
    }
  ]
}