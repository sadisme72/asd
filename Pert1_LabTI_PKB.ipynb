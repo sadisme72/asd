{
  "nbformat": 4,
  "nbformat_minor": 0,
  "metadata": {
    "colab": {
      "name": "Pert1 LabTI PKB.ipynb",
      "version": "0.3.2",
      "provenance": [],
      "collapsed_sections": [],
      "include_colab_link": true
    },
    "kernelspec": {
      "name": "python3",
      "display_name": "Python 3"
    },
    "accelerator": "GPU"
  },
  "cells": [
    {
      "cell_type": "markdown",
      "metadata": {
        "id": "view-in-github",
        "colab_type": "text"
      },
      "source": [
        "[View in Colaboratory](https://colab.research.google.com/github/sadisme72/asd/blob/master/Pert1_LabTI_PKB.ipynb)"
      ]
    },
    {
      "metadata": {
        "id": "kpe-nky4mOhw",
        "colab_type": "code",
        "colab": {}
      },
      "cell_type": "code",
      "source": [
        "import numpy as np #multidimensionarray\n",
        "import matplotlib.pyplot as plt #grafik - lihat gambar \n",
        "from keras.layers import Dense #lapisan neural net\n",
        "from keras.models import Sequential #model neural net\n",
        "from keras.datasets import mnist #dataset\n",
        "from keras.utils import to_categorical #ubah label jadi vektor"
      ],
      "execution_count": 0,
      "outputs": []
    },
    {
      "metadata": {
        "id": "lW4wBXPioOyV",
        "colab_type": "code",
        "colab": {}
      },
      "cell_type": "code",
      "source": [
        "(x_train, y_train), (x_test, y_test) = mnist.load_data();"
      ],
      "execution_count": 0,
      "outputs": []
    },
    {
      "metadata": {
        "id": "0XV2MQ_-pcRz",
        "colab_type": "code",
        "colab": {}
      },
      "cell_type": "code",
      "source": [
        "input_dim = 784\n",
        "model = Sequential()\n",
        "model.add(Dense(400,\n",
        "              input_dim=input_dim,\n",
        "              activation='relu')) #Layer 1 \n",
        "model.add(Dense(10,\n",
        "               activation='softmax')) #Layer 2 (gak boleh lebih besar dari Layer 1) \n",
        "model.compile(loss='categorical_crossentropy', #Loss(Tingkat kehilangan)\n",
        "            optimizer='adam',\n",
        "            metrics=['accuracy']) #Fungsinya ningkatin akurasi \n",
        "#Loss makin mendekati 0, optimize mendekati 1 \n",
        "\n",
        "x_train = np.reshape(x_train, (x_train.shape[0], 784))\n",
        "x_test = np.reshape(x_test, (x_test.shape[0], 784))\n",
        "\n",
        "y_train = to_categorical(y_train)\n",
        "y_test = to_categorical(y_test)"
      ],
      "execution_count": 0,
      "outputs": []
    },
    {
      "metadata": {
        "id": "JXYBfVg4v5uF",
        "colab_type": "code",
        "colab": {}
      },
      "cell_type": "code",
      "source": [
        ""
      ],
      "execution_count": 0,
      "outputs": []
    },
    {
      "metadata": {
        "id": "EqJm5yPusVXI",
        "colab_type": "code",
        "colab": {
          "base_uri": "https://localhost:8080/",
          "height": 770
        },
        "outputId": "0d70e763-342b-435e-a212-58608faf2a20"
      },
      "cell_type": "code",
      "source": [
        "hist = model.fit(x_train, y_train, #memanggil x dan y train \n",
        "               epochs = 20, #pengulangan sebanyak 20 \n",
        "               batch_size = 200, #banyaknya data yang dibaca \n",
        "               validation_data=(x_test, y_test))"
      ],
      "execution_count": 30,
      "outputs": [
        {
          "output_type": "stream",
          "text": [
            "Train on 60000 samples, validate on 10000 samples\n",
            "Epoch 1/20\n",
            "60000/60000 [==============================] - 2s 36us/step - loss: 10.4424 - acc: 0.3506 - val_loss: 9.9198 - val_acc: 0.3837\n",
            "Epoch 2/20\n",
            "60000/60000 [==============================] - 2s 30us/step - loss: 10.0965 - acc: 0.3730 - val_loss: 9.8955 - val_acc: 0.3858\n",
            "Epoch 3/20\n",
            "60000/60000 [==============================] - 2s 30us/step - loss: 10.0394 - acc: 0.3766 - val_loss: 9.8064 - val_acc: 0.3915\n",
            "Epoch 4/20\n",
            "60000/60000 [==============================] - 2s 30us/step - loss: 9.9783 - acc: 0.3806 - val_loss: 9.7958 - val_acc: 0.3919\n",
            "Epoch 5/20\n",
            "60000/60000 [==============================] - 2s 29us/step - loss: 10.1019 - acc: 0.3728 - val_loss: 10.1274 - val_acc: 0.3712\n",
            "Epoch 6/20\n",
            "60000/60000 [==============================] - 2s 30us/step - loss: 10.0241 - acc: 0.3776 - val_loss: 9.0849 - val_acc: 0.4358\n",
            "Epoch 7/20\n",
            "60000/60000 [==============================] - 2s 30us/step - loss: 8.7224 - acc: 0.4584 - val_loss: 8.5136 - val_acc: 0.4716\n",
            "Epoch 8/20\n",
            "60000/60000 [==============================] - 2s 29us/step - loss: 8.5615 - acc: 0.4683 - val_loss: 8.3927 - val_acc: 0.4791\n",
            "Epoch 9/20\n",
            "60000/60000 [==============================] - 2s 30us/step - loss: 8.5117 - acc: 0.4715 - val_loss: 8.4461 - val_acc: 0.4757\n",
            "Epoch 10/20\n",
            "60000/60000 [==============================] - 2s 30us/step - loss: 8.4211 - acc: 0.4772 - val_loss: 8.4603 - val_acc: 0.4747\n",
            "Epoch 11/20\n",
            "60000/60000 [==============================] - 2s 30us/step - loss: 8.4070 - acc: 0.4782 - val_loss: 8.3186 - val_acc: 0.4836\n",
            "Epoch 12/20\n",
            "60000/60000 [==============================] - 2s 30us/step - loss: 8.3955 - acc: 0.4789 - val_loss: 8.2761 - val_acc: 0.4862\n",
            "Epoch 13/20\n",
            "60000/60000 [==============================] - 2s 30us/step - loss: 8.3466 - acc: 0.4818 - val_loss: 8.3222 - val_acc: 0.4836\n",
            "Epoch 14/20\n",
            "60000/60000 [==============================] - 2s 30us/step - loss: 8.0830 - acc: 0.4981 - val_loss: 7.8801 - val_acc: 0.5102\n",
            "Epoch 15/20\n",
            "60000/60000 [==============================] - 2s 30us/step - loss: 7.4089 - acc: 0.5399 - val_loss: 7.3121 - val_acc: 0.5462\n",
            "Epoch 16/20\n",
            "60000/60000 [==============================] - 2s 30us/step - loss: 7.4117 - acc: 0.5396 - val_loss: 7.2527 - val_acc: 0.5496\n",
            "Epoch 17/20\n",
            "60000/60000 [==============================] - 2s 30us/step - loss: 7.2383 - acc: 0.5506 - val_loss: 7.0714 - val_acc: 0.5610\n",
            "Epoch 18/20\n",
            "60000/60000 [==============================] - 2s 30us/step - loss: 7.1421 - acc: 0.5565 - val_loss: 7.0297 - val_acc: 0.5635\n",
            "Epoch 19/20\n",
            "60000/60000 [==============================] - 2s 29us/step - loss: 7.1839 - acc: 0.5539 - val_loss: 7.4639 - val_acc: 0.5364\n",
            "Epoch 20/20\n",
            "60000/60000 [==============================] - 2s 30us/step - loss: 7.1484 - acc: 0.5562 - val_loss: 7.0750 - val_acc: 0.5609\n"
          ],
          "name": "stdout"
        }
      ]
    },
    {
      "metadata": {
        "id": "2gF0QuPrv7JS",
        "colab_type": "code",
        "colab": {
          "base_uri": "https://localhost:8080/",
          "height": 246
        },
        "outputId": "44c15169-5801-465a-e024-59aac1cf3f24"
      },
      "cell_type": "code",
      "source": [
        "predicted = model.predict(np.reshape(img,(1,784)))\n",
        "predicted - np.argnax(predicted)\n",
        "\n",
        "predicted\n",
        "\n",
        "np.argmax(y_test)\n",
        "plt.imshow(np.reshape(x_test[8700], [28,28]))\n",
        "plt.axis('off')\n",
        "plt.show\n",
        "\n"
      ],
      "execution_count": 33,
      "outputs": [
        {
          "output_type": "error",
          "ename": "NameError",
          "evalue": "ignored",
          "traceback": [
            "\u001b[0;31m---------------------------------------------------------------------------\u001b[0m",
            "\u001b[0;31mNameError\u001b[0m                                 Traceback (most recent call last)",
            "\u001b[0;32m<ipython-input-33-6a3317a4e49a>\u001b[0m in \u001b[0;36m<module>\u001b[0;34m()\u001b[0m\n\u001b[0;32m----> 1\u001b[0;31m \u001b[0mpredicted\u001b[0m \u001b[0;34m=\u001b[0m \u001b[0mmodel\u001b[0m\u001b[0;34m.\u001b[0m\u001b[0mpredict\u001b[0m\u001b[0;34m(\u001b[0m\u001b[0mnp\u001b[0m\u001b[0;34m.\u001b[0m\u001b[0mreshape\u001b[0m\u001b[0;34m(\u001b[0m\u001b[0mimg\u001b[0m\u001b[0;34m,\u001b[0m\u001b[0;34m(\u001b[0m\u001b[0;36m1\u001b[0m\u001b[0;34m,\u001b[0m\u001b[0;36m784\u001b[0m\u001b[0;34m)\u001b[0m\u001b[0;34m)\u001b[0m\u001b[0;34m)\u001b[0m\u001b[0;34m\u001b[0m\u001b[0m\n\u001b[0m\u001b[1;32m      2\u001b[0m \u001b[0mpredicted\u001b[0m \u001b[0;34m-\u001b[0m \u001b[0mnp\u001b[0m\u001b[0;34m.\u001b[0m\u001b[0margnax\u001b[0m\u001b[0;34m(\u001b[0m\u001b[0mpredicted\u001b[0m\u001b[0;34m)\u001b[0m\u001b[0;34m\u001b[0m\u001b[0m\n\u001b[1;32m      3\u001b[0m \u001b[0;34m\u001b[0m\u001b[0m\n\u001b[1;32m      4\u001b[0m \u001b[0mpredicted\u001b[0m\u001b[0;34m\u001b[0m\u001b[0m\n\u001b[1;32m      5\u001b[0m \u001b[0;34m\u001b[0m\u001b[0m\n",
            "\u001b[0;31mNameError\u001b[0m: name 'img' is not defined"
          ]
        }
      ]
    },
    {
      "metadata": {
        "id": "WDzZgZP6z9mW",
        "colab_type": "code",
        "colab": {}
      },
      "cell_type": "code",
      "source": [
        ""
      ],
      "execution_count": 0,
      "outputs": []
    },
    {
      "metadata": {
        "id": "umHIPW6Xz7FQ",
        "colab_type": "code",
        "colab": {}
      },
      "cell_type": "code",
      "source": [
        ""
      ],
      "execution_count": 0,
      "outputs": []
    },
    {
      "metadata": {
        "id": "d3jLtTupz5PX",
        "colab_type": "code",
        "colab": {}
      },
      "cell_type": "code",
      "source": [
        ""
      ],
      "execution_count": 0,
      "outputs": []
    },
    {
      "metadata": {
        "id": "jOKX_GV1vw_y",
        "colab_type": "code",
        "colab": {}
      },
      "cell_type": "code",
      "source": [
        ""
      ],
      "execution_count": 0,
      "outputs": []
    },
    {
      "metadata": {
        "id": "BNZklTxBvrPT",
        "colab_type": "code",
        "colab": {}
      },
      "cell_type": "code",
      "source": [
        ""
      ],
      "execution_count": 0,
      "outputs": []
    },
    {
      "metadata": {
        "id": "WrfMpC5GvO42",
        "colab_type": "code",
        "colab": {}
      },
      "cell_type": "code",
      "source": [
        ""
      ],
      "execution_count": 0,
      "outputs": []
    },
    {
      "metadata": {
        "id": "LmAiXpsRvMY3",
        "colab_type": "code",
        "colab": {}
      },
      "cell_type": "code",
      "source": [
        ""
      ],
      "execution_count": 0,
      "outputs": []
    },
    {
      "metadata": {
        "id": "37oXxVmmsMNW",
        "colab_type": "code",
        "colab": {}
      },
      "cell_type": "code",
      "source": [
        ""
      ],
      "execution_count": 0,
      "outputs": []
    },
    {
      "metadata": {
        "id": "zjRke8ujr_VZ",
        "colab_type": "code",
        "colab": {}
      },
      "cell_type": "code",
      "source": [
        ""
      ],
      "execution_count": 0,
      "outputs": []
    },
    {
      "metadata": {
        "id": "omWnMn6_oLa3",
        "colab_type": "code",
        "colab": {}
      },
      "cell_type": "code",
      "source": [
        ""
      ],
      "execution_count": 0,
      "outputs": []
    },
    {
      "metadata": {
        "id": "FHErR97EoB9s",
        "colab_type": "code",
        "colab": {}
      },
      "cell_type": "code",
      "source": [
        ""
      ],
      "execution_count": 0,
      "outputs": []
    }
  ]
}